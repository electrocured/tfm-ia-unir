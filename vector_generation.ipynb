{
 "cells": [
  {
   "cell_type": "code",
   "execution_count": 2,
   "metadata": {},
   "outputs": [],
   "source": [
    "# required imports\n",
    "from sklearn.feature_extraction import text \n",
    "from textblob import TextBlob\n",
    "from nltk.corpus import wordnet as wn\n",
    "import pandas as pd\n",
    "import random\n",
    "from nltk.classify import accuracy, NaiveBayesClassifier\n",
    "import numpy as np\n",
    "import time"
   ]
  },
  {
   "cell_type": "code",
   "execution_count": 1,
   "metadata": {},
   "outputs": [],
   "source": [
    "# vector is defined according to features identified \n",
    "# over the tfm document\n",
    "\n",
    "global_features = {}\n",
    "\n",
    "# origin type\n",
    "global_features['origin'] = []\n",
    "# joy\n",
    "global_features['origin'].append('pleasant')\n",
    "global_features['origin'].append('wellness')\n",
    "# sadness\n",
    "global_features['origin'].append('setback')\n",
    "# anger\n",
    "global_features['origin'].append('frustration')\n",
    "global_features['origin'].append('adversity')\n",
    "# fear\n",
    "global_features['origin'].append('danger')\n",
    "# surprise\n",
    "global_features['origin'].append('stimulus')\n",
    "global_features['origin'].append('unexpected')\n",
    "global_features['origin'].append('intensity')\n",
    "\n",
    "\n",
    "# effect type\n",
    "global_features['effect'] = []\n",
    "\n",
    "# consequence type\n",
    "global_features['consequence'] = []\n",
    "# joy\n",
    "global_features['consequence'].append('smile')\n",
    "global_features['consequence'].append('interaction')\n",
    "global_features['consequence'].append('creativity')\n",
    "# sadness\n",
    "global_features['consequence'].append('refusal')\n",
    "global_features['consequence'].append('misfortune')\n",
    "global_features['consequence'].append('weakness')\n",
    "# anger\n",
    "global_features['consequence'].append('destroy')\n",
    "global_features['consequence'].append('aggressiveness')\n",
    "global_features['consequence'].append('hostile')\n",
    "# fear\n",
    "global_features['consequence'].append('obsession')\n",
    "global_features['consequence'].append('panic')\n",
    "global_features['consequence'].append('phobia')\n",
    "global_features['consequence'].append('anxiety')\n",
    "# surprise\n",
    "global_features['consequence'].append('setback')"
   ]
  },
  {
   "cell_type": "code",
   "execution_count": 4,
   "metadata": {},
   "outputs": [],
   "source": [
    "# some common functions \n",
    "\n",
    "# used to avoid accessing the global features var directly\n",
    "def get_features():\n",
    "    return global_features\n",
    "\n",
    "# used to remove stopwords from a phrase\n",
    "def get_clean_phrase(phrase):\n",
    "    return ' '.join(word for (word) in phrase.split() if word not in text.ENGLISH_STOP_WORDS)"
   ]
  },
  {
   "cell_type": "code",
   "execution_count": 8,
   "metadata": {},
   "outputs": [
    {
     "name": "stdout",
     "output_type": "stream",
     "text": [
      "         phrase\n",
      "          count\n",
      "feeling        \n",
      "anger      2709\n",
      "fear       2373\n",
      "joy        6761\n",
      "sadness    5797\n",
      "surprise    719\n"
     ]
    }
   ],
   "source": [
    "# dataset is loaded into different dataframes\n",
    "df_test = pd.read_csv(\"data/test.txt\", sep=\";\", names=['phrase', 'feeling'])\n",
    "df_train = pd.read_csv(\"data/train.txt\", sep=\";\", names=['phrase', 'feeling'])\n",
    "df_val = pd.read_csv(\"data/val.txt\", sep=\";\", names=['phrase', 'feeling'])\n",
    "\n",
    "# dataframes are joined\n",
    "df = pd.concat([df_test, df_train, df_val])\n",
    "\n",
    "\n",
    "# remove \"love\" feeling as we do not have features for it\n",
    "data_without_love = df[df['feeling']!= 'love'] \n",
    "\n",
    "# we print the phrase count for each feeling\n",
    "print(data_without_love.groupby(['feeling']).agg(['count']))\n"
   ]
  },
  {
   "cell_type": "code",
   "execution_count": 9,
   "metadata": {},
   "outputs": [
    {
     "name": "stdout",
     "output_type": "stream",
     "text": [
      "         phrase\n",
      "          count\n",
      "feeling        \n",
      "anger       720\n",
      "fear        720\n",
      "joy         720\n",
      "sadness     720\n",
      "surprise    719\n"
     ]
    }
   ],
   "source": [
    "\n",
    "# since the min amount of phrases is 719 for one feeling\n",
    "# we create a subset to avoid overtraining\n",
    "# and by doing this, we balance the dataset\n",
    "data_filtered = pd.concat([data_without_love[data_without_love['feeling']== 'anger'].sample(720), \\\n",
    "                          data_without_love[data_without_love['feeling']== 'fear'].sample(720), \\\n",
    "                          data_without_love[data_without_love['feeling']== 'joy'].sample(720), \n",
    "                          data_without_love[data_without_love['feeling']== 'sadness'].sample(720),\n",
    "                          data_without_love[data_without_love['feeling']== 'surprise']])\n",
    "    \n",
    "#data_filtered = data_without_love\n",
    "print(data_filtered.groupby(['feeling']).agg(['count']))"
   ]
  },
  {
   "cell_type": "code",
   "execution_count": 10,
   "metadata": {},
   "outputs": [],
   "source": [
    "# functions to generate vectors and calculate scores\n",
    "\n",
    "def generate_vector_v1(phrase):\n",
    "    vector = {}\n",
    "    value = 0\n",
    "    features = get_features()\n",
    "    for feature_type, feature_names in features.items():\n",
    "        for feature_name in feature_names:\n",
    "            key = \"{}({})\".format(feature_type, feature_name)\n",
    "            feature_data = {}\n",
    "            value = get_similarity_score_v1(feature_name, phrase)\n",
    "            feature_data[key] = value\n",
    "            vector.update(feature_data)\n",
    "    return vector\n",
    "\n",
    "\n",
    "# similarity is calculated as avg of all similarities\n",
    "# absolute value, rounded to 2 decimals\n",
    "# s = (sim_w1 + sim_w1 + ... + sim_wn)/n\n",
    "# if any word has none similarity, it will be counted as 0\n",
    "def get_similarity_score_v1(feature, phrase):\n",
    "    feature_synsets = wn.synsets(feature)\n",
    "    # we use the first definition\n",
    "    feature_synset = feature_synsets[0]\n",
    "    score = 0\n",
    "    word_counter = 0\n",
    "    for (word) in phrase.split():\n",
    "        phrase_word_synsets = wn.synsets(word)\n",
    "        if (len(phrase_word_synsets) > 0):\n",
    "            cur = feature_synset.wup_similarity(phrase_word_synsets[0])\n",
    "            cur = 0 if cur is None else cur\n",
    "        else:\n",
    "            cur = 0\n",
    "        score += cur\n",
    "        word_counter += 1\n",
    "    score = round(score, 2)\n",
    "    return score"
   ]
  },
  {
   "cell_type": "code",
   "execution_count": 11,
   "metadata": {},
   "outputs": [
    {
     "name": "stdout",
     "output_type": "stream",
     "text": [
      "i honestly do not feel discouraged today as i usually do\n",
      "honestly feel discouraged today usually\n",
      "{'origin(pleasant)': 0, 'origin(wellness)': 0.59, 'origin(setback)': 0.73, 'origin(frustration)': 0.55, 'origin(adversity)': 0.66, 'origin(danger)': 0.77, 'origin(stimulus)': 0.87, 'origin(unexpected)': 0, 'origin(intensity)': 0.77, 'consequence(smile)': 0.56, 'consequence(interaction)': 0.68, 'consequence(creativity)': 0.87, 'consequence(refusal)': 0.64, 'consequence(misfortune)': 0.68, 'consequence(weakness)': 0.77, 'consequence(destroy)': 1.4, 'consequence(aggressiveness)': 0.77, 'consequence(hostile)': 0.52, 'consequence(obsession)': 0.73, 'consequence(panic)': 0.66, 'consequence(phobia)': 0.59, 'consequence(anxiety)': 0.71, 'consequence(setback)': 0.73}\n",
      "\n",
      "\n",
      "i feel energetic and excited to see my results at the end of the week\n",
      "feel energetic excited results end week\n",
      "{'origin(pleasant)': 0, 'origin(wellness)': 0.71, 'origin(setback)': 1.07, 'origin(frustration)': 0.67, 'origin(adversity)': 0.81, 'origin(danger)': 0.94, 'origin(stimulus)': 1.2, 'origin(unexpected)': 0, 'origin(intensity)': 0.94, 'consequence(smile)': 0.87, 'consequence(interaction)': 0.99, 'consequence(creativity)': 1.2, 'consequence(refusal)': 0.93, 'consequence(misfortune)': 0.99, 'consequence(weakness)': 0.94, 'consequence(destroy)': 1.44, 'consequence(aggressiveness)': 0.94, 'consequence(hostile)': 0.81, 'consequence(obsession)': 1.07, 'consequence(panic)': 0.81, 'consequence(phobia)': 0.71, 'consequence(anxiety)': 0.87, 'consequence(setback)': 1.07}\n",
      "\n",
      "\n",
      "i cant help to also feel a little restless\n",
      "help feel little restless\n",
      "{'origin(pleasant)': 0, 'origin(wellness)': 0.7, 'origin(setback)': 1.35, 'origin(frustration)': 0.66, 'origin(adversity)': 0.79, 'origin(danger)': 0.91, 'origin(stimulus)': 1.33, 'origin(unexpected)': 0, 'origin(intensity)': 0.91, 'consequence(smile)': 0.84, 'consequence(interaction)': 1.4, 'consequence(creativity)': 1.33, 'consequence(refusal)': 1.31, 'consequence(misfortune)': 1.25, 'consequence(weakness)': 0.91, 'consequence(destroy)': 0.94, 'consequence(aggressiveness)': 0.91, 'consequence(hostile)': 0.79, 'consequence(obsession)': 1.19, 'consequence(panic)': 0.79, 'consequence(phobia)': 0.7, 'consequence(anxiety)': 0.84, 'consequence(setback)': 1.35}\n",
      "\n",
      "\n",
      "felt anger when at the end of telephone call\n",
      "felt anger end telephone\n",
      "{'origin(pleasant)': 0, 'origin(wellness)': 0.81, 'origin(setback)': 0.75, 'origin(frustration)': 0.88, 'origin(adversity)': 0.92, 'origin(danger)': 1.06, 'origin(stimulus)': 0.75, 'origin(unexpected)': 0, 'origin(intensity)': 0.9, 'consequence(smile)': 0.7, 'consequence(interaction)': 0.7, 'consequence(creativity)': 0.75, 'consequence(refusal)': 0.65, 'consequence(misfortune)': 0.7, 'consequence(weakness)': 1.06, 'consequence(destroy)': 0.7, 'consequence(aggressiveness)': 0.9, 'consequence(hostile)': 0.65, 'consequence(obsession)': 0.75, 'consequence(panic)': 1.18, 'consequence(phobia)': 0.81, 'consequence(anxiety)': 0.98, 'consequence(setback)': 0.75}\n",
      "\n",
      "\n"
     ]
    }
   ],
   "source": [
    "\n",
    "# sample vector generation\n",
    "\n",
    "# obtain a phrase\n",
    "sample_phrases = []\n",
    "sample_phrases.append(\"i honestly do not feel discouraged today as i usually do\")\n",
    "sample_phrases.append(\"i feel energetic and excited to see my results at the end of the week\")\n",
    "sample_phrases.append(\"i cant help to also feel a little restless\")\n",
    "sample_phrases.append(\"felt anger when at the end of telephone call\")\n",
    "\n",
    "\n",
    "\n",
    "# we iterate over phrases\n",
    "for sample_phrase in sample_phrases:\n",
    "    print(sample_phrase)    \n",
    "    sample_phrase_clean = get_clean_phrase(sample_phrase)\n",
    "    print(sample_phrase_clean)\n",
    "    sample_vector = generate_vector_v1(sample_phrase_clean)\n",
    "    print(sample_vector)\n",
    "    print(\"\\n\")"
   ]
  },
  {
   "cell_type": "code",
   "execution_count": null,
   "metadata": {},
   "outputs": [],
   "source": []
  }
 ],
 "metadata": {
  "kernelspec": {
   "display_name": "Python 3",
   "language": "python",
   "name": "python3"
  },
  "language_info": {
   "codemirror_mode": {
    "name": "ipython",
    "version": 3
   },
   "file_extension": ".py",
   "mimetype": "text/x-python",
   "name": "python",
   "nbconvert_exporter": "python",
   "pygments_lexer": "ipython3",
   "version": "3.7.6"
  }
 },
 "nbformat": 4,
 "nbformat_minor": 4
}
