{
 "cells": [
  {
   "cell_type": "code",
   "execution_count": 3,
   "metadata": {},
   "outputs": [],
   "source": [
    "# required imports\n",
    "import pickle\n"
   ]
  },
  {
   "cell_type": "code",
   "execution_count": 7,
   "metadata": {},
   "outputs": [],
   "source": [
    "# vector is defined according to features identified \n",
    "# over the section 5 in the TFM document\n",
    "\n",
    "global_features = {}\n",
    "\n",
    "# origin type\n",
    "global_features['origin'] = []\n",
    "# joy\n",
    "global_features['origin'].append('pleasant')\n",
    "global_features['origin'].append('wellness')\n",
    "# sadness\n",
    "global_features['origin'].append('setback')\n",
    "# anger\n",
    "global_features['origin'].append('frustration')\n",
    "global_features['origin'].append('adversity')\n",
    "# fear\n",
    "global_features['origin'].append('danger')\n",
    "# surprise\n",
    "global_features['origin'].append('stimulus')\n",
    "global_features['origin'].append('unexpected')\n",
    "global_features['origin'].append('intensity')\n",
    "\n",
    "\n",
    "# effect type\n",
    "global_features['effect'] = []\n",
    "\n",
    "# consequence type\n",
    "global_features['consequence'] = []\n",
    "# joy\n",
    "global_features['consequence'].append('smile')\n",
    "global_features['consequence'].append('interaction')\n",
    "global_features['consequence'].append('creativity')\n",
    "# sadness\n",
    "global_features['consequence'].append('refusal')\n",
    "global_features['consequence'].append('misfortune')\n",
    "global_features['consequence'].append('weakness')\n",
    "# anger\n",
    "global_features['consequence'].append('destroy')\n",
    "global_features['consequence'].append('aggressiveness')\n",
    "global_features['consequence'].append('hostile')\n",
    "# fear\n",
    "global_features['consequence'].append('obsession')\n",
    "global_features['consequence'].append('panic')\n",
    "global_features['consequence'].append('phobia')\n",
    "global_features['consequence'].append('anxiety')\n",
    "# surprise\n",
    "global_features['consequence'].append('setback')\n"
   ]
  },
  {
   "cell_type": "code",
   "execution_count": 6,
   "metadata": {},
   "outputs": [],
   "source": [
    "# features are pickled to be used in other notebooks\n",
    "\n",
    "with open('global_features.pickle', 'wb') as f:\n",
    "    pickle.dump(global_features, f)\n",
    "\n"
   ]
  }
 ],
 "metadata": {
  "kernelspec": {
   "display_name": "Python 3",
   "language": "python",
   "name": "python3"
  },
  "language_info": {
   "codemirror_mode": {
    "name": "ipython",
    "version": 3
   },
   "file_extension": ".py",
   "mimetype": "text/x-python",
   "name": "python",
   "nbconvert_exporter": "python",
   "pygments_lexer": "ipython3",
   "version": "3.7.6"
  }
 },
 "nbformat": 4,
 "nbformat_minor": 4
}
